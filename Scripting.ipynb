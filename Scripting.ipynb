{
 "cells": [
  {
   "cell_type": "code",
   "execution_count": 51,
   "metadata": {},
   "outputs": [],
   "source": [
    "import numpy as np\n",
    "import os\n",
    "import pandas as pd1\n",
    "import shutil\n",
    "import csv\n",
    "from pathlib import Path\n",
    "\n"
   ]
  },
  {
   "cell_type": "code",
   "execution_count": 52,
   "metadata": {},
   "outputs": [
    {
     "data": {
      "text/plain": [
       "WindowsPath('c:/Users/tejan/Desktop/VivadoAutomation')"
      ]
     },
     "execution_count": 52,
     "metadata": {},
     "output_type": "execute_result"
    }
   ],
   "source": [
    "pwd = Path.cwd()\n",
    "pwd"
   ]
  },
  {
   "cell_type": "code",
   "execution_count": 53,
   "metadata": {},
   "outputs": [
    {
     "data": {
      "text/plain": [
       "WindowsPath('c:/Users/tejan/Desktop/VivadoAutomation/Verilog_Files')"
      ]
     },
     "execution_count": 53,
     "metadata": {},
     "output_type": "execute_result"
    }
   ],
   "source": [
    "#directory = \"/Users/tejan/Desktop/IITGN/Study/Semester 2/IC Design Lab/ScriptingandAutomation/Verilog_Files\"\n",
    "\n",
    "directory = pwd/\"Verilog_Files\"\n",
    "\n",
    "directory"
   ]
  },
  {
   "cell_type": "code",
   "execution_count": 54,
   "metadata": {},
   "outputs": [
    {
     "name": "stdout",
     "output_type": "stream",
     "text": [
      "['ALU32BIT.v', 'AND.v', 'BiasA.v', 'COUNTER_4_BIT.v', 'Function.v', 'Multiplier4BIT.v', 'OR.v', 'Sequence_10011_Mealy.v', 'Sequence_10011_Moore.v', 'SHIFTER.v', 'XOR.v']\n"
     ]
    }
   ],
   "source": [
    "verilog_files = []\n",
    "\n",
    "for f in os.listdir(directory):\n",
    "    if f.endswith(\".v\"):\n",
    "        verilog_files.append(f)\n",
    "\n",
    "print(verilog_files)"
   ]
  },
  {
   "cell_type": "code",
   "execution_count": 55,
   "metadata": {},
   "outputs": [
    {
     "name": "stdout",
     "output_type": "stream",
     "text": [
      "Warning: Board not found! Using FPGA part instead.\n",
      "Project 'TEST_20250215_193015' is created at 'C:/Users/tejan/Desktop/VivadoAutomation/Projects/TEST_20250215_193015' \n",
      "\n"
     ]
    }
   ],
   "source": [
    "os.system(\"vivado -mode batch -source Createproject.tcl\")\n",
    "\n",
    "with open(pwd/\"ProjectInformation/output.log\", \"r\") as file:\n",
    "    print(file.read())"
   ]
  },
  {
   "cell_type": "code",
   "execution_count": 56,
   "metadata": {},
   "outputs": [
    {
     "name": "stdout",
     "output_type": "stream",
     "text": [
      "Warning: Board not found! Using FPGA part instead.\n",
      "Project 'TEST_20250215_193015' is created at 'C:/Users/tejan/Desktop/VivadoAutomation/Projects/TEST_20250215_193015' \n",
      "Opened Project : C:/Users/tejan/Desktop/VivadoAutomation/Projects/TEST_20250215_193015/TEST_20250215_193015.xpr\n",
      "Added ALU32BIT.v\n",
      "Opened Project : C:/Users/tejan/Desktop/VivadoAutomation/Projects/TEST_20250215_193015/TEST_20250215_193015.xpr\n",
      "Added AND.v\n",
      "Opened Project : C:/Users/tejan/Desktop/VivadoAutomation/Projects/TEST_20250215_193015/TEST_20250215_193015.xpr\n",
      "Added BiasA.v\n",
      "Opened Project : C:/Users/tejan/Desktop/VivadoAutomation/Projects/TEST_20250215_193015/TEST_20250215_193015.xpr\n",
      "Added COUNTER_4_BIT.v\n",
      "Opened Project : C:/Users/tejan/Desktop/VivadoAutomation/Projects/TEST_20250215_193015/TEST_20250215_193015.xpr\n",
      "Added Function.v\n",
      "Opened Project : C:/Users/tejan/Desktop/VivadoAutomation/Projects/TEST_20250215_193015/TEST_20250215_193015.xpr\n",
      "Added Multiplier4BIT.v\n",
      "Opened Project : C:/Users/tejan/Desktop/VivadoAutomation/Projects/TEST_20250215_193015/TEST_20250215_193015.xpr\n",
      "Added OR.v\n",
      "Opened Project : C:/Users/tejan/Desktop/VivadoAutomation/Projects/TEST_20250215_193015/TEST_20250215_193015.xpr\n",
      "Added Sequence_10011_Mealy.v\n",
      "Opened Project : C:/Users/tejan/Desktop/VivadoAutomation/Projects/TEST_20250215_193015/TEST_20250215_193015.xpr\n",
      "Added Sequence_10011_Moore.v\n",
      "Opened Project : C:/Users/tejan/Desktop/VivadoAutomation/Projects/TEST_20250215_193015/TEST_20250215_193015.xpr\n",
      "Added SHIFTER.v\n",
      "Opened Project : C:/Users/tejan/Desktop/VivadoAutomation/Projects/TEST_20250215_193015/TEST_20250215_193015.xpr\n",
      "Added XOR.v\n",
      "\n"
     ]
    }
   ],
   "source": [
    "for f in verilog_files:\n",
    "    os.system(\"vivado -mode batch -source  AddingModules.tcl -tclargs {}\".format(f))\n",
    "\n",
    "with open(pwd/\"ProjectInformation/output.log\", \"r\") as file:\n",
    "    print(file.read())    "
   ]
  },
  {
   "cell_type": "code",
   "execution_count": 57,
   "metadata": {},
   "outputs": [
    {
     "name": "stdout",
     "output_type": "stream",
     "text": [
      "ALU32BIT.v reported\n",
      "AND.v reported\n",
      "BiasA.v reported\n",
      "COUNTER_4_BIT.v reported\n",
      "Function.v reported\n",
      "Multiplier4BIT.v reported\n",
      "OR.v reported\n",
      "Sequence_10011_Mealy.v reported\n",
      "Sequence_10011_Moore.v reported\n",
      "SHIFTER.v reported\n",
      "XOR.v reported\n"
     ]
    }
   ],
   "source": [
    "for filename in verilog_files:\n",
    "     folder_name = filename[:-2]  \n",
    "     dir_path = pwd / \"Results\" / folder_name  \n",
    "     shutil.rmtree(dir_path, ignore_errors=True)\n",
    "     os.makedirs(dir_path, exist_ok=True)\n",
    "     os.system(\"vivado -mode batch -source  Running.tcl -tclargs {}\".format(filename))\n",
    "     print(\"{} reported\".format(filename)) "
   ]
  },
  {
   "cell_type": "code",
   "execution_count": 63,
   "metadata": {},
   "outputs": [],
   "source": [
    "data_files = os.listdir(pwd/\"Results\") \n",
    "\n",
    "file_types = ['power.txt','timing.txt','utilization.txt']\n",
    "\n",
    "req_data = ['Total On-Chip Power','Data Path Delay','Slice LUTs']\n",
    "\n",
    "Power = []\n",
    "Delay = []\n",
    "LUTs  = []"
   ]
  },
  {
   "cell_type": "code",
   "execution_count": 64,
   "metadata": {},
   "outputs": [
    {
     "name": "stdout",
     "output_type": "stream",
     "text": [
      "21.654\n",
      "17.088\n",
      "141.0\n",
      "_____\n",
      "0.31\n",
      "6.389\n",
      "1.0\n",
      "_____\n",
      "0.372\n",
      "6.752\n",
      "1.0\n",
      "_____\n",
      "3.75\n",
      "5.027\n",
      "2.0\n",
      "_____\n",
      "0.918\n",
      "6.622\n",
      "1.0\n",
      "_____\n",
      "21.654\n",
      "17.088\n",
      "141.0\n",
      "_____\n",
      "0.31\n",
      "6.389\n",
      "1.0\n",
      "_____\n",
      "0.103\n",
      "4.725\n",
      "5.0\n",
      "_____\n",
      "0.104\n",
      "4.721\n",
      "5.0\n",
      "_____\n",
      "0.924\n",
      "5.051\n",
      "5.0\n",
      "_____\n",
      "0.506\n",
      "6.389\n",
      "1.0\n",
      "_____\n"
     ]
    }
   ],
   "source": [
    "for data in data_files :\n",
    "    for file in file_types:\n",
    "        with open(\"results/{}/{}\".format(data,file),'r') as File:\n",
    "             content = File.read()\n",
    "\n",
    "        words = content.split('\\n')   \n",
    "\n",
    "        for req_word in words:\n",
    "            if file_types[0] in file:\n",
    "                if req_data[0] in req_word:\n",
    "                    pwr = float(req_word.split()[6])\n",
    "                    print(pwr)\n",
    "                    Power.append(pwr)\n",
    "  \n",
    "\n",
    "        for req_word in words:\n",
    "            if file_types[1] in file:\n",
    "                if req_data[1] in req_word:\n",
    "                    delay = float(req_word.split()[3][:-2])\n",
    "                    print(delay)\n",
    "                    Delay.append(delay)\n",
    "\n",
    "\n",
    "        for req_word in words:\n",
    "            if file_types[2] in file:\n",
    "                if req_data[2] in req_word:\n",
    "                    luts = float(req_word.split()[4])\n",
    "                    print(luts) \n",
    "                    LUTs.append(luts) \n",
    "                    print(\"_____\")  "
   ]
  },
  {
   "cell_type": "code",
   "execution_count": 66,
   "metadata": {},
   "outputs": [
    {
     "name": "stdout",
     "output_type": "stream",
     "text": [
      "           ALU32BIT    AND  BiasA  COUNTER_4_BIT  Function  Multiplier4BIT  \\\n",
      "Power(W)     21.654  0.310  0.372          3.750     0.918          21.654   \n",
      "Delay(ns)    17.088  6.389  6.752          5.027     6.622          17.088   \n",
      "LUTs        141.000  1.000  1.000          2.000     1.000         141.000   \n",
      "\n",
      "              OR  Sequence_10011_Mealy  Sequence_10011_Moore  SHIFTER    XOR  \n",
      "Power(W)   0.310                 0.103                 0.104    0.924  0.506  \n",
      "Delay(ns)  6.389                 4.725                 4.721    5.051  6.389  \n",
      "LUTs       1.000                 5.000                 5.000    5.000  1.000  \n"
     ]
    }
   ],
   "source": [
    "Final_results = [Power,Delay,LUTs]\n",
    "row_name = ['Power(W)','Delay(ns)','LUTs']\n",
    "\n",
    "df = pd1.DataFrame(Final_results, index = row_name)\n",
    "df.columns = data_files\n",
    "\n",
    "df.to_csv('Final_results.csv', index = row_name)\n",
    "print(df)"
   ]
  }
 ],
 "metadata": {
  "kernelspec": {
   "display_name": "Python 3",
   "language": "python",
   "name": "python3"
  },
  "language_info": {
   "codemirror_mode": {
    "name": "ipython",
    "version": 3
   },
   "file_extension": ".py",
   "mimetype": "text/x-python",
   "name": "python",
   "nbconvert_exporter": "python",
   "pygments_lexer": "ipython3",
   "version": "3.9.13"
  }
 },
 "nbformat": 4,
 "nbformat_minor": 2
}
